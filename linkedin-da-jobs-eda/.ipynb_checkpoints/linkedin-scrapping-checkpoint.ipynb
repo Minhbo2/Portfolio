{
 "cells": [
  {
   "cell_type": "code",
   "execution_count": 62,
   "id": "2f4fc812-4908-42a8-9095-7126dcc2e564",
   "metadata": {},
   "outputs": [],
   "source": [
    "import selenium\n",
    "from selenium import webdriver\n",
    "from selenium.common import exceptions"
   ]
  },
  {
   "cell_type": "code",
   "execution_count": 20,
   "id": "21270a07-bc16-41f4-a04f-3c1a3b52cd69",
   "metadata": {},
   "outputs": [],
   "source": [
    "import pandas as pd\n",
    "from pandas import DataFrame, Series\n",
    "import numpy as np\n",
    "import time\n",
    "import re\n",
    "\n",
    "import seaborn as sns\n",
    "import matplotlib.pyplot as plt"
   ]
  },
  {
   "cell_type": "code",
   "execution_count": 3,
   "id": "dd0848f4-ce6b-4f1b-b569-842f36248117",
   "metadata": {},
   "outputs": [],
   "source": [
    "# make to download the correct chrome driver, update path to its directory\n",
    "wd = webdriver.Chrome(executable_path='./chromedriver.exe')\n",
    "url = 'https://www.linkedin.com/jobs/search?keywords=Data%20Analyst&location=San%20Francisco%20Bay%20Area&locationId=&geoId=90000084&sortBy=R&f_TPR=&f_E=2%2C3&position=1&pageNum=0'\n",
    "wd.get(url)\n",
    "wd.maximize_window()"
   ]
  },
  {
   "cell_type": "code",
   "execution_count": 4,
   "id": "950f64df-b695-46c7-b32e-8a76f7e2d6cf",
   "metadata": {},
   "outputs": [
    {
     "data": {
      "text/plain": [
       "3000"
      ]
     },
     "execution_count": 4,
     "metadata": {},
     "output_type": "execute_result"
    }
   ],
   "source": [
    "# convert str result of job counts into int\n",
    "no_of_jobs = wd.find_element_by_css_selector('h1>span').get_attribute('innerText')\n",
    "no_of_jobs_str = no_of_jobs\n",
    "no_of_jobs_str = no_of_jobs_str[:-1]\n",
    "no_of_jobs_int = int(no_of_jobs_str.replace(',',''))\n",
    "no_of_jobs_int"
   ]
  },
  {
   "cell_type": "code",
   "execution_count": 37,
   "id": "c373200a-69c9-4984-a277-e979387e5b2d",
   "metadata": {
    "scrolled": true,
    "tags": []
   },
   "outputs": [],
   "source": [
    "# expanding the listing to get a total of no_of_jobs_in posts\n",
    "i = 2\n",
    "\n",
    "while i <= int(no_of_jobs_int/25) + 1:\n",
    "# while i <= int(1000/25) + 1: # just want about 1000 postings\n",
    "    wd.execute_script('window.scrollTo(0,document.body.scrollHeight);')\n",
    "    i = i+1\n",
    "    try:\n",
    "        wd.find_element_by_class_name('infinite-scroller__show-more-button.infinite-scroller__show-more-button').click()\n",
    "        time.sleep(5)\n",
    "    except:\n",
    "        pass\n",
    "        time.sleep(5)"
   ]
  },
  {
   "cell_type": "code",
   "execution_count": 46,
   "id": "adc6315d-a601-40eb-91b6-5abb6ed92791",
   "metadata": {},
   "outputs": [],
   "source": [
    "def jobIsNotWanted(title):\n",
    "    if re.search('analyst', title.lower()):\n",
    "        return False\n",
    "    return True"
   ]
  },
  {
   "cell_type": "code",
   "execution_count": 157,
   "id": "ed40adf7-2f85-4479-81d8-7ff687076439",
   "metadata": {},
   "outputs": [],
   "source": [
    "# expanding the jobs listing\n",
    "\n",
    "def expandList():\n",
    "    wd.execute_script('window.scrollTo(0,document.body.scrollHeight);')\n",
    "\n",
    "    try:\n",
    "        wd.find_element_by_class_name('infinite-scroller__show-more-button.infinite-scroller__show-more-button').click()\n",
    "        time.sleep(5)\n",
    "    except:\n",
    "        pass"
   ]
  },
  {
   "cell_type": "code",
   "execution_count": 159,
   "id": "f9e9ad5d-60f1-4a7c-a38c-4aaa5cf9d67f",
   "metadata": {},
   "outputs": [],
   "source": [
    "# expand job details and get text\n",
    "def getJobDesc():\n",
    "    job_desc = ''\n",
    "    detail_panel = wd.find_element_by_class_name('two-pane-serp-page__detail-view')\n",
    "    core_section = detail_panel.find_element_by_xpath('/html/body/div[1]/div/section/div[2]/div[1]/section[1]')\n",
    "    \n",
    "    # handling different details panels\n",
    "    try:\n",
    "        show_more_button = core_section.find_element_by_tag_name('div>div>section>button')\n",
    "        show_more_button.click()\n",
    "        job_desc = core_section.find_element_by_tag_name('div>section>div').text\n",
    "    except exceptions.NoSuchElementException:                                                  \n",
    "        show_more_button = core_section.find_element_by_xpath('/html/body/div[1]/div/section/div[2]/div/section[2]/div/div/section/button[1]')\n",
    "        show_more_button.click()                              \n",
    "        job_desc = core_section.find_element_by_xpath('/html/body/div[1]/div/section/div[2]/div/section[2]/div').text\n",
    "    except exceptions.ElementNotInteractableException as err:\n",
    "        print(err)\n",
    "        pass\n",
    "    except:\n",
    "        pass\n",
    "    \n",
    "    return job_desc"
   ]
  },
  {
   "cell_type": "code",
   "execution_count": 152,
   "id": "c9f78ff8-f82c-40f7-aec9-27b99cf2e836",
   "metadata": {},
   "outputs": [],
   "source": [
    "# load up existing df is there is one\n",
    "job_id = []\n",
    "job_title = []\n",
    "company_name = []\n",
    "city = []\n",
    "state = []\n",
    "location = []\n",
    "description = {}\n",
    "# job_df = pd.read_csv('jobs.csv')\n",
    "# print(job_df.columns)\n",
    "\n",
    "# job_id = job_df['id'].values.tolist()\n",
    "# job_title = job_df['title'].values.tolist()\n",
    "# company_name = job_df['company_name'].values.tolist()\n",
    "# city = job_df['city'].values.tolist()\n",
    "# state = job_df['state'].values.tolist()"
   ]
  },
  {
   "cell_type": "code",
   "execution_count": 32,
   "id": "bcab247c-66b7-43e6-a2d7-09bd29975116",
   "metadata": {},
   "outputs": [],
   "source": [
    "# use this if we only expand as we go\n",
    "\n",
    "# looping over the job listing until we have 100 unique job in list\n",
    "# or exceeding the amount of available posting\n",
    "jobs = []\n",
    "curr_job_count = 0\n",
    "\n",
    "while len(job_id) < 100:\n",
    "    \n",
    "    curr_job_count = len(jobs)\n",
    "    \n",
    "    # get a list of jobs\n",
    "    job_listing = wd.find_element_by_class_name('jobs-search__results-list')\n",
    "    jobs_posts = job_listing.find_elements_by_tag_name('li')\n",
    "    # only indexing jobs we have not went over yet\n",
    "    jobs = jobs_posts[curr_job_count:len(jobs_posts)]\n",
    "    \n",
    "    for job in jobs:\n",
    "        # click on each li ele to populate the job card \n",
    "        job.click()\n",
    "        time.sleep(0.5)\n",
    "        \n",
    "        url = wd.current_url\n",
    "        url_parts = url.split('JobId=')\n",
    "        if(url_parts[1] in job_id): # move on to next iteration if already exist\n",
    "            continue\n",
    "        job_id.append(url_parts[1])\n",
    "            \n",
    "        # get job title\n",
    "        title = job.find_element_by_css_selector('div>h3')\n",
    "        job_title.append(title.text)\n",
    "\n",
    "        # get the company name\n",
    "        company = job.find_element_by_css_selector('div>h4')\n",
    "        company_name.append(company.text)\n",
    "\n",
    "        # job location\n",
    "        job_location = job.find_element_by_class_name('job-search-card__location')\n",
    "        location.append(job_location.text)\n",
    "        \n",
    "        \n",
    "\n",
    "    expandList()"
   ]
  },
  {
   "cell_type": "code",
   "execution_count": 156,
   "id": "d7e27261-a1ba-4a30-ba3f-d57c31818e2e",
   "metadata": {},
   "outputs": [],
   "source": [
    "##### use this block if list expanded to total posting before hand\n",
    "\n",
    "job_listing = wd.find_element_by_class_name('jobs-search__results-list')\n",
    "jobs = job_listing.find_elements_by_tag_name('li')\n",
    "\n",
    "for job in jobs:\n",
    "    # click on each li ele to populate the job card \n",
    "    job.click()\n",
    "    time.sleep(.5)\n",
    "    # get job id and title, filtering out existing and non-desirable job based on title\n",
    "    url = wd.current_url\n",
    "    url_parts = url.split('JobId=')\n",
    "    title = job.find_element_by_css_selector('div>h3')\n",
    "    # move on to next iteration if already exist and job is not wanted\n",
    "    if(url_parts[1] in job_id or jobIsNotWanted(title.text)): \n",
    "        continue\n",
    "        \n",
    "    job_id.append(url_parts[1])\n",
    "    job_title.append(title.text)\n",
    "\n",
    "    # get the company name\n",
    "    company = job.find_element_by_css_selector('div>h4')\n",
    "    company_name.append(company.text)\n",
    "\n",
    "    # job location\n",
    "    job_location = job.find_element_by_class_name('job-search-card__location')\n",
    "    location.append(job_location.text)\n",
    "    \n",
    "    # job description\n",
    "    desc = getJobDesc()\n",
    "    description[url_parts[1]] = desc\n",
    "\n",
    "    time.sleep(1)"
   ]
  },
  {
   "cell_type": "code",
   "execution_count": null,
   "id": "f09c9b57-fef4-47f7-9743-0b9c37c31270",
   "metadata": {},
   "outputs": [],
   "source": []
  },
  {
   "cell_type": "code",
   "execution_count": 9,
   "id": "14e58617-4b66-4f9a-947d-00bc13436b06",
   "metadata": {},
   "outputs": [],
   "source": [
    "# scrubbing null values for job level\n",
    "# missing_seniority_level = seniority_level\n",
    "# missing_seniority_level = [i if len(i) > 0 else 'Not Applicable' for i in seniority_level]"
   ]
  },
  {
   "cell_type": "code",
   "execution_count": 10,
   "id": "8cf91ce1-0f9d-4b7c-9d53-fcb1e6e40e4d",
   "metadata": {},
   "outputs": [],
   "source": [
    "# separate city and state\n",
    "# state = []\n",
    "# city = []\n",
    "\n",
    "# for i in range(len(location)):\n",
    "#     state.append(location[i][-2:])\n",
    "#     city.append(location[i][:-4])"
   ]
  },
  {
   "cell_type": "code",
   "execution_count": 11,
   "id": "7c2b37da-29da-49ec-802f-e57fc1959fa2",
   "metadata": {},
   "outputs": [],
   "source": [
    "# replacing , in company name, just personal ref\n",
    "# cleaned_company_name = [name.replace(',','-') for name in company_name]"
   ]
  },
  {
   "cell_type": "code",
   "execution_count": 166,
   "id": "fec6c9d2-6d7c-46d5-b2f9-69d635c278a7",
   "metadata": {},
   "outputs": [],
   "source": [
    "job_df = pd.DataFrame()\n",
    "\n",
    "job_dict = {\n",
    "    'id': job_id,\n",
    "    'title': job_title,\n",
    "    'company_name': company_name,\n",
    "    'location': location\n",
    "}\n",
    "\n",
    "job_df = pd.DataFrame(job_dict)\n",
    "job_df.to_csv('jobs.csv', index = False)"
   ]
  },
  {
   "cell_type": "code",
   "execution_count": 26,
   "id": "7ec2b0bb-0f53-4e3f-ad4f-ae64c772dac5",
   "metadata": {},
   "outputs": [],
   "source": [
    "# TODO: \n",
    "# description, combine all substirngs into a giant string\n",
    "# sql, python, R, Tableau, BI, excel, looker, powerpoint, SAS, ETL, Jupyter Notebooks"
   ]
  },
  {
   "cell_type": "code",
   "execution_count": 189,
   "id": "5a9283d5-1e7f-4354-a85d-956730d45a89",
   "metadata": {},
   "outputs": [],
   "source": [
    "job_desc_df = pd.DataFrame.from_dict({'id': description.keys(), 'description':description.values()})\n",
    "job_desc_df.to_csv('jobs_desc.csv', index = False)"
   ]
  },
  {
   "cell_type": "code",
   "execution_count": null,
   "id": "42a71c67-854b-4278-8200-c5900ab7d455",
   "metadata": {},
   "outputs": [],
   "source": []
  }
 ],
 "metadata": {
  "kernelspec": {
   "display_name": "Python 3",
   "language": "python",
   "name": "python3"
  },
  "language_info": {
   "codemirror_mode": {
    "name": "ipython",
    "version": 3
   },
   "file_extension": ".py",
   "mimetype": "text/x-python",
   "name": "python",
   "nbconvert_exporter": "python",
   "pygments_lexer": "ipython3",
   "version": "3.8.8"
  }
 },
 "nbformat": 4,
 "nbformat_minor": 5
}
