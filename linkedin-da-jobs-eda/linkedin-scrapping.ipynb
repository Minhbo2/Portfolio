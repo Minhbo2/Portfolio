{
 "cells": [
  {
   "cell_type": "code",
   "execution_count": 2,
   "id": "2f4fc812-4908-42a8-9095-7126dcc2e564",
   "metadata": {},
   "outputs": [],
   "source": [
    "import selenium\n",
    "from selenium import webdriver"
   ]
  },
  {
   "cell_type": "code",
   "execution_count": 1,
   "id": "21270a07-bc16-41f4-a04f-3c1a3b52cd69",
   "metadata": {},
   "outputs": [],
   "source": [
    "import pandas as pd\n",
    "from pandas import DataFrame, Series\n",
    "import numpy as np\n",
    "import time\n",
    "\n",
    "import seaborn as sns\n",
    "import matplotlib.pyplot as plt"
   ]
  },
  {
   "cell_type": "code",
   "execution_count": 94,
   "id": "dd0848f4-ce6b-4f1b-b569-842f36248117",
   "metadata": {},
   "outputs": [],
   "source": [
    "# make to download the correct chrome driver, update path to its directory\n",
    "wd = webdriver.Chrome(executable_path='./chromedriver.exe')\n",
    "url = 'https://www.linkedin.com/jobs/search?keywords=Data%20Analyst&location=Oakland%2C%20California%2C%20United%20States&geoId=105883676&trk=public_jobs_jobs-search-bar_search-submit&position=1&pageNum=0'\n",
    "wd.get(url)\n",
    "\n",
    "no_of_jobs = wd.find_element_by_css_selector('h1>span').get_attribute('innerText')"
   ]
  },
  {
   "cell_type": "code",
   "execution_count": 106,
   "id": "950f64df-b695-46c7-b32e-8a76f7e2d6cf",
   "metadata": {},
   "outputs": [
    {
     "data": {
      "text/plain": [
       "7000"
      ]
     },
     "execution_count": 106,
     "metadata": {},
     "output_type": "execute_result"
    }
   ],
   "source": [
    "# convert str result of job counts into int\n",
    "no_of_jobs_str = no_of_jobs\n",
    "no_of_jobs_str = no_of_jobs_str[:-1]\n",
    "no_of_jobs_int = int(no_of_jobs_str.replace(',',''))\n",
    "no_of_jobs_int"
   ]
  },
  {
   "cell_type": "code",
   "execution_count": 24,
   "id": "c373200a-69c9-4984-a277-e979387e5b2d",
   "metadata": {
    "scrolled": true,
    "tags": []
   },
   "outputs": [],
   "source": [
    "# expanding the listing to get a total of no_of_jobs_in posts\n",
    "i = 2\n",
    "\n",
    "# while i <= int(no_of_jobs_int/25) + 1:\n",
    "while i <= int(1000/25) + 1: # just want about 1000 postings\n",
    "    wd.execute_script('window.scrollTo(0,document.body.scrollHeight);')\n",
    "    i = i+1\n",
    "    try:\n",
    "        wd.find_element_by_class_name('infinite-scroller__show-more-button.infinite-scroller__show-more-button').click()\n",
    "        time.sleep(5)\n",
    "    except:\n",
    "        pass\n",
    "        time.sleep(5)"
   ]
  },
  {
   "cell_type": "code",
   "execution_count": 96,
   "id": "35a16f33-39fe-48e8-b4f5-bd81ebd548f6",
   "metadata": {},
   "outputs": [
    {
     "data": {
      "text/plain": [
       "25"
      ]
     },
     "execution_count": 96,
     "metadata": {},
     "output_type": "execute_result"
    }
   ],
   "source": [
    "# get a list of jobs\n",
    "job_lists = wd.find_element_by_class_name('jobs-search__results-list')\n",
    "jobs = job_lists.find_elements_by_tag_name('li')\n",
    "len(jobs)"
   ]
  },
  {
   "cell_type": "code",
   "execution_count": 98,
   "id": "37d026b3-333a-4212-9acf-a58fb1339852",
   "metadata": {
    "tags": []
   },
   "outputs": [],
   "source": [
    "job_id = []\n",
    "job_title = []\n",
    "company_name = []\n",
    "location = []\n",
    "# job_link = []\n",
    "seniority_level = []\n",
    "\n",
    "job_card = wd.find_element_by_xpath('/html/body/div[1]/div/section/div[2]/div/section[1]/div/div/section/button[1]')\n",
    "\n",
    "for job in jobs:\n",
    "    \n",
    "    # click on each li ele to populate the job card \n",
    "    click = job.click()\n",
    "    job_card.click()\n",
    "    \n",
    "    # get the job id from the url query\n",
    "    url_parts = wd.current_url.split('JobId=')\n",
    "    job_id.append(url_parts[1])\n",
    "    \n",
    "    # get job title\n",
    "    title = job.find_element_by_css_selector('div>h3')\n",
    "    job_title.append(title.text)\n",
    "    \n",
    "    # get the company name\n",
    "    company = job.find_element_by_css_selector('div>h4')\n",
    "    company_name.append(company.text)\n",
    "    \n",
    "    # job location\n",
    "    job_location = job.find_element_by_class_name('job-search-card__location')\n",
    "    location.append(job_location.text)\n",
    "    \n",
    "    #   hyper link to job post\n",
    "#     try:\n",
    "#         # majority of the li cards have tag div with the same class name\n",
    "#         href = job.find_element_by_class_name('base-card__full-link')\n",
    "#     except:\n",
    "#         # some card doesnt have the a tag with class different name\n",
    "#         href = job.find_element_by_css_selector('li>a')\n",
    "#         pass\n",
    "#     job_link.append(href.get_attribute('href'))\n",
    "    \n",
    "    # get posting job level\n",
    "    try:\n",
    "        job_level = wd.find_element_by_xpath('/html/body/div[1]/div/section/div[2]/div/section[1]/div/ul/li[1]/span').text\n",
    "    except:\n",
    "        job_level = wd.find_element_by_xpath('/html/body/div[1]/div/section/div[2]/div/section[2]/div/ul/li[1]/span').text\n",
    "        \n",
    "    seniority_level.append(job_level)\n",
    "    \n",
    "    time.sleep(0.1)"
   ]
  },
  {
   "cell_type": "code",
   "execution_count": 90,
   "id": "14e58617-4b66-4f9a-947d-00bc13436b06",
   "metadata": {},
   "outputs": [],
   "source": [
    "# scrubbing null values for job level\n",
    "missing_seniority_level = seniority_level\n",
    "missing_seniority_level = [i if len(i) > 0 else 'Not Applicable' for i in seniority_level]"
   ]
  },
  {
   "cell_type": "code",
   "execution_count": 85,
   "id": "8cf91ce1-0f9d-4b7c-9d53-fcb1e6e40e4d",
   "metadata": {},
   "outputs": [],
   "source": [
    "# separate city and state\n",
    "state = []\n",
    "city = []\n",
    "\n",
    "for i in range(len(location)):\n",
    "    state.append(location[i][-2:])\n",
    "    city.append(location[i][:-4])"
   ]
  },
  {
   "cell_type": "code",
   "execution_count": 87,
   "id": "7c2b37da-29da-49ec-802f-e57fc1959fa2",
   "metadata": {},
   "outputs": [],
   "source": [
    "# replacing , in company name, just personal ref\n",
    "cleaned_company_name = [name.replace(',','-') for name in company_name]"
   ]
  },
  {
   "cell_type": "code",
   "execution_count": 91,
   "id": "fec6c9d2-6d7c-46d5-b2f9-69d635c278a7",
   "metadata": {},
   "outputs": [],
   "source": [
    "job_dict = {\n",
    "    'id': job_id,\n",
    "    'title': job_title,\n",
    "    'seniority_level': missing_seniority_level,\n",
    "    'company_name': cleaned_company_name,\n",
    "    'city': city,\n",
    "    'state': state\n",
    "#     'link': job_link\n",
    "}\n",
    "\n",
    "job_df = pd.DataFrame(job_dict)"
   ]
  },
  {
   "cell_type": "code",
   "execution_count": 100,
   "id": "a2bf9084-363d-45b9-a1f5-b80a0976891c",
   "metadata": {},
   "outputs": [],
   "source": [
    "job_df.to_csv('temp.csv',index=False)"
   ]
  },
  {
   "cell_type": "code",
   "execution_count": 105,
   "id": "e690f4b8-de9e-4f8d-b4bc-ea57045df383",
   "metadata": {},
   "outputs": [
    {
     "data": {
      "text/plain": [
       "city\n",
       "San Francisco    19\n",
       "Fremont           2\n",
       "Redwood City      2\n",
       "Oakland           1\n",
       "Richmond          1\n",
       "dtype: int64"
      ]
     },
     "execution_count": 105,
     "metadata": {},
     "output_type": "execute_result"
    }
   ],
   "source": [
    "job_df_group_by_city = job_df.groupby('city').size().sort_values(ascending = False)\n",
    "job_df_group_by_city"
   ]
  },
  {
   "cell_type": "code",
   "execution_count": 3,
   "id": "7ec2b0bb-0f53-4e3f-ad4f-ae64c772dac5",
   "metadata": {},
   "outputs": [],
   "source": [
    "# TODO: \n",
    "# description, combine all substirngs into a giant string\n",
    "# sql, python, R, Tableau, BI, excel, looker, powerpoint, SAS, ETL, Jupyter Notebooks\n",
    "df = pd.read_csv('temp.csv')"
   ]
  },
  {
   "cell_type": "code",
   "execution_count": 4,
   "id": "5a9283d5-1e7f-4354-a85d-956730d45a89",
   "metadata": {},
   "outputs": [
    {
     "data": {
      "text/html": [
       "<div>\n",
       "<style scoped>\n",
       "    .dataframe tbody tr th:only-of-type {\n",
       "        vertical-align: middle;\n",
       "    }\n",
       "\n",
       "    .dataframe tbody tr th {\n",
       "        vertical-align: top;\n",
       "    }\n",
       "\n",
       "    .dataframe thead th {\n",
       "        text-align: right;\n",
       "    }\n",
       "</style>\n",
       "<table border=\"1\" class=\"dataframe\">\n",
       "  <thead>\n",
       "    <tr style=\"text-align: right;\">\n",
       "      <th></th>\n",
       "      <th>id</th>\n",
       "      <th>title</th>\n",
       "      <th>seniority_level</th>\n",
       "      <th>company_name</th>\n",
       "      <th>city</th>\n",
       "      <th>state</th>\n",
       "    </tr>\n",
       "  </thead>\n",
       "  <tbody>\n",
       "    <tr>\n",
       "      <th>15</th>\n",
       "      <td>2710966299</td>\n",
       "      <td>Data Analyst - Remote</td>\n",
       "      <td>Not Applicable</td>\n",
       "      <td>New Relic- Inc.</td>\n",
       "      <td>San Francisco</td>\n",
       "      <td>CA</td>\n",
       "    </tr>\n",
       "    <tr>\n",
       "      <th>4</th>\n",
       "      <td>2728555002</td>\n",
       "      <td>Data Analyst, Revenue Intelligence</td>\n",
       "      <td>Not Applicable</td>\n",
       "      <td>Twitter</td>\n",
       "      <td>San Francisco</td>\n",
       "      <td>CA</td>\n",
       "    </tr>\n",
       "    <tr>\n",
       "      <th>9</th>\n",
       "      <td>2734415779</td>\n",
       "      <td>Data Analyst</td>\n",
       "      <td>Entry level</td>\n",
       "      <td>First Republic Bank</td>\n",
       "      <td>San Francisco</td>\n",
       "      <td>CA</td>\n",
       "    </tr>\n",
       "    <tr>\n",
       "      <th>20</th>\n",
       "      <td>2710303258</td>\n",
       "      <td>Data Analyst</td>\n",
       "      <td>Not Applicable</td>\n",
       "      <td>Electronic Arts (EA)</td>\n",
       "      <td>Redwood City</td>\n",
       "      <td>CA</td>\n",
       "    </tr>\n",
       "    <tr>\n",
       "      <th>21</th>\n",
       "      <td>2684696582</td>\n",
       "      <td>Data Analyst, Reconciliation</td>\n",
       "      <td>Associate</td>\n",
       "      <td>Square</td>\n",
       "      <td>San Francisco</td>\n",
       "      <td>CA</td>\n",
       "    </tr>\n",
       "  </tbody>\n",
       "</table>\n",
       "</div>"
      ],
      "text/plain": [
       "            id                               title seniority_level  \\\n",
       "15  2710966299               Data Analyst - Remote  Not Applicable   \n",
       "4   2728555002  Data Analyst, Revenue Intelligence  Not Applicable   \n",
       "9   2734415779                        Data Analyst     Entry level   \n",
       "20  2710303258                        Data Analyst  Not Applicable   \n",
       "21  2684696582        Data Analyst, Reconciliation       Associate   \n",
       "\n",
       "            company_name           city state  \n",
       "15       New Relic- Inc.  San Francisco    CA  \n",
       "4                Twitter  San Francisco    CA  \n",
       "9    First Republic Bank  San Francisco    CA  \n",
       "20  Electronic Arts (EA)   Redwood City    CA  \n",
       "21                Square  San Francisco    CA  "
      ]
     },
     "execution_count": 4,
     "metadata": {},
     "output_type": "execute_result"
    }
   ],
   "source": [
    "df.sample(5)"
   ]
  }
 ],
 "metadata": {
  "kernelspec": {
   "display_name": "Python 3",
   "language": "python",
   "name": "python3"
  },
  "language_info": {
   "codemirror_mode": {
    "name": "ipython",
    "version": 3
   },
   "file_extension": ".py",
   "mimetype": "text/x-python",
   "name": "python",
   "nbconvert_exporter": "python",
   "pygments_lexer": "ipython3",
   "version": "3.8.8"
  }
 },
 "nbformat": 4,
 "nbformat_minor": 5
}
