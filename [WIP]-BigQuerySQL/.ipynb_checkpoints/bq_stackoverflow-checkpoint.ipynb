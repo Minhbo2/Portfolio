{
 "cells": [
  {
   "cell_type": "code",
   "execution_count": 1,
   "id": "351a34f1-fdf7-41b9-ba7b-e9fa9f2f4f5f",
   "metadata": {},
   "outputs": [],
   "source": [
    "import pandas as pd\n",
    "from pandas import DataFrame\n",
    "import os\n",
    "\n",
    "%load_ext google.cloud.bigquery"
   ]
  },
  {
   "cell_type": "code",
   "execution_count": 12,
   "id": "fb5d75f5-ad5e-420e-a514-091795de1421",
   "metadata": {},
   "outputs": [
    {
     "ename": "FileNotFoundError",
     "evalue": "[Errno 2] No such file or directory: '..Desktop\\\\BQ_Keypath\\\\portfolio-331917-9f920a11ce56.json'",
     "output_type": "error",
     "traceback": [
      "\u001b[1;31m---------------------------------------------------------------------------\u001b[0m",
      "\u001b[1;31mFileNotFoundError\u001b[0m                         Traceback (most recent call last)",
      "\u001b[1;32m<ipython-input-12-6268ab3971f6>\u001b[0m in \u001b[0;36m<module>\u001b[1;34m\u001b[0m\n\u001b[0;32m      2\u001b[0m \u001b[1;33m\u001b[0m\u001b[0m\n\u001b[0;32m      3\u001b[0m \u001b[0mcredential_path\u001b[0m \u001b[1;33m=\u001b[0m \u001b[1;34m'..Desktop\\BQ_Keypath\\portfolio-331917-9f920a11ce56.json'\u001b[0m\u001b[1;33m\u001b[0m\u001b[1;33m\u001b[0m\u001b[0m\n\u001b[1;32m----> 4\u001b[1;33m \u001b[0mclient\u001b[0m \u001b[1;33m=\u001b[0m \u001b[0mbigquery\u001b[0m\u001b[1;33m.\u001b[0m\u001b[0mClient\u001b[0m\u001b[1;33m.\u001b[0m\u001b[0mfrom_service_account_json\u001b[0m\u001b[1;33m(\u001b[0m\u001b[0mcredential_path\u001b[0m\u001b[1;33m)\u001b[0m\u001b[1;33m\u001b[0m\u001b[1;33m\u001b[0m\u001b[0m\n\u001b[0m\u001b[0;32m      5\u001b[0m \u001b[1;33m\u001b[0m\u001b[0m\n\u001b[0;32m      6\u001b[0m \u001b[1;31m# define helper functions\u001b[0m\u001b[1;33m\u001b[0m\u001b[1;33m\u001b[0m\u001b[1;33m\u001b[0m\u001b[0m\n",
      "\u001b[1;32mF:\\Anaconda\\lib\\site-packages\\google\\cloud\\client\\__init__.py\u001b[0m in \u001b[0;36mfrom_service_account_json\u001b[1;34m(cls, json_credentials_path, *args, **kwargs)\u001b[0m\n\u001b[0;32m    104\u001b[0m                  \u001b[1;32mand\u001b[0m \u001b[0mthe\u001b[0m \u001b[0mcredentials\u001b[0m \u001b[0mcreated\u001b[0m \u001b[0mby\u001b[0m \u001b[0mthe\u001b[0m \u001b[0mfactory\u001b[0m\u001b[1;33m.\u001b[0m\u001b[1;33m\u001b[0m\u001b[1;33m\u001b[0m\u001b[0m\n\u001b[0;32m    105\u001b[0m         \"\"\"\n\u001b[1;32m--> 106\u001b[1;33m         \u001b[1;32mwith\u001b[0m \u001b[0mio\u001b[0m\u001b[1;33m.\u001b[0m\u001b[0mopen\u001b[0m\u001b[1;33m(\u001b[0m\u001b[0mjson_credentials_path\u001b[0m\u001b[1;33m,\u001b[0m \u001b[1;34m\"r\"\u001b[0m\u001b[1;33m,\u001b[0m \u001b[0mencoding\u001b[0m\u001b[1;33m=\u001b[0m\u001b[1;34m\"utf-8\"\u001b[0m\u001b[1;33m)\u001b[0m \u001b[1;32mas\u001b[0m \u001b[0mjson_fi\u001b[0m\u001b[1;33m:\u001b[0m\u001b[1;33m\u001b[0m\u001b[1;33m\u001b[0m\u001b[0m\n\u001b[0m\u001b[0;32m    107\u001b[0m             \u001b[0mcredentials_info\u001b[0m \u001b[1;33m=\u001b[0m \u001b[0mjson\u001b[0m\u001b[1;33m.\u001b[0m\u001b[0mload\u001b[0m\u001b[1;33m(\u001b[0m\u001b[0mjson_fi\u001b[0m\u001b[1;33m)\u001b[0m\u001b[1;33m\u001b[0m\u001b[1;33m\u001b[0m\u001b[0m\n\u001b[0;32m    108\u001b[0m \u001b[1;33m\u001b[0m\u001b[0m\n",
      "\u001b[1;31mFileNotFoundError\u001b[0m: [Errno 2] No such file or directory: '..Desktop\\\\BQ_Keypath\\\\portfolio-331917-9f920a11ce56.json'"
     ]
    }
   ],
   "source": [
    "from google.cloud import bigquery\n",
    "\n",
    "credential_path = r'..Desktop\\BQ_Keypath\\portfolio-331917-9f920a11ce56.json'\n",
    "client = bigquery.Client.from_service_account_json(credential_path)\n",
    "\n",
    "# define helper functions\n",
    "def getQueryAsDF(query):\n",
    "    return client.query(query).result().to_dataframe()\n",
    "\n",
    "def getTableSchema(table):\n",
    "    return client.get_table(table).schema"
   ]
  },
  {
   "cell_type": "markdown",
   "id": "eb0e33e9-3c95-4984-b640-c23da59730d2",
   "metadata": {},
   "source": [
    "Where are the majority of users located?\n",
    "- Table: users\n",
    "- Field: location"
   ]
  },
  {
   "cell_type": "code",
   "execution_count": 6,
   "id": "2b71f464-f0f4-4786-b258-d442ffdc08d9",
   "metadata": {},
   "outputs": [
    {
     "data": {
      "text/html": [
       "<div>\n",
       "<style scoped>\n",
       "    .dataframe tbody tr th:only-of-type {\n",
       "        vertical-align: middle;\n",
       "    }\n",
       "\n",
       "    .dataframe tbody tr th {\n",
       "        vertical-align: top;\n",
       "    }\n",
       "\n",
       "    .dataframe thead th {\n",
       "        text-align: right;\n",
       "    }\n",
       "</style>\n",
       "<table border=\"1\" class=\"dataframe\">\n",
       "  <thead>\n",
       "    <tr style=\"text-align: right;\">\n",
       "      <th></th>\n",
       "      <th>location</th>\n",
       "    </tr>\n",
       "  </thead>\n",
       "  <tbody>\n",
       "    <tr>\n",
       "      <th>200453</th>\n",
       "      <td>'s Hertogenbosch, The Netherlands</td>\n",
       "    </tr>\n",
       "    <tr>\n",
       "      <th>216464</th>\n",
       "      <td>Banks, OR, USA</td>\n",
       "    </tr>\n",
       "    <tr>\n",
       "      <th>27286</th>\n",
       "      <td>Gevim, Israel</td>\n",
       "    </tr>\n",
       "    <tr>\n",
       "      <th>144193</th>\n",
       "      <td>Florida City, Флорида, США</td>\n",
       "    </tr>\n",
       "    <tr>\n",
       "      <th>166382</th>\n",
       "      <td>Polônia</td>\n",
       "    </tr>\n",
       "  </tbody>\n",
       "</table>\n",
       "</div>"
      ],
      "text/plain": [
       "                                 location\n",
       "200453  's Hertogenbosch, The Netherlands\n",
       "216464                     Banks, OR, USA\n",
       "27286                       Gevim, Israel\n",
       "144193         Florida City, Флорида, США\n",
       "166382                            Polônia"
      ]
     },
     "execution_count": 6,
     "metadata": {},
     "output_type": "execute_result"
    }
   ],
   "source": [
    "# total users have specified location\n",
    "query1 = \"\"\"\n",
    "            SELECT\n",
    "                DISTINCT location\n",
    "            FROM \n",
    "                `bigquery-public-data.stackoverflow.users`\n",
    "            WHERE\n",
    "                location IS NOT NULL\n",
    "        \"\"\"\n",
    "\n",
    "getQueryAsDF(query1).sample(5)"
   ]
  },
  {
   "cell_type": "code",
   "execution_count": null,
   "id": "f5dc20dc-6823-4a31-b2f1-5ef92fab27af",
   "metadata": {},
   "outputs": [],
   "source": []
  }
 ],
 "metadata": {
  "kernelspec": {
   "display_name": "Python 3",
   "language": "python",
   "name": "python3"
  },
  "language_info": {
   "codemirror_mode": {
    "name": "ipython",
    "version": 3
   },
   "file_extension": ".py",
   "mimetype": "text/x-python",
   "name": "python",
   "nbconvert_exporter": "python",
   "pygments_lexer": "ipython3",
   "version": "3.8.8"
  }
 },
 "nbformat": 4,
 "nbformat_minor": 5
}
