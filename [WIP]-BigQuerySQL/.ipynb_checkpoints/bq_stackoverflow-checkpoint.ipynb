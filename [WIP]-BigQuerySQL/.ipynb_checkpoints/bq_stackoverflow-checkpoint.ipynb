{
 "cells": [
  {
   "cell_type": "code",
   "execution_count": 1,
   "id": "351a34f1-fdf7-41b9-ba7b-e9fa9f2f4f5f",
   "metadata": {},
   "outputs": [],
   "source": [
    "import pandas as pd\n",
    "from pandas import DataFrame\n",
    "import os\n",
    "\n",
    "%load_ext google.cloud.bigquery"
   ]
  },
  {
   "cell_type": "code",
   "execution_count": 2,
   "id": "fb5d75f5-ad5e-420e-a514-091795de1421",
   "metadata": {},
   "outputs": [],
   "source": [
    "from google.cloud import bigquery\n",
    "\n",
    "credential_path = r'../../BQ_Keypath/portfolio-331917-9f920a11ce56.json'\n",
    "client = bigquery.Client.from_service_account_json(credential_path)\n",
    "\n",
    "# define helper functions\n",
    "def getQueryAsDF(query):\n",
    "    return client.query(query).result().to_dataframe()\n",
    "\n",
    "def getTableSchema(table):\n",
    "    return client.get_table(table).schema"
   ]
  },
  {
   "cell_type": "markdown",
   "id": "d31c1539-e0cd-4c5c-a78b-862e52302c58",
   "metadata": {},
   "source": [
    "What are the total count for gold badges given and overal %?"
   ]
  },
  {
   "cell_type": "code",
   "execution_count": 3,
   "id": "93c29276-b0b1-413f-afd7-035732ef4e58",
   "metadata": {},
   "outputs": [
    {
     "data": {
      "text/plain": [
       "[SchemaField('id', 'INTEGER', 'NULLABLE', None, (), None),\n",
       " SchemaField('name', 'STRING', 'NULLABLE', None, (), None),\n",
       " SchemaField('date', 'TIMESTAMP', 'NULLABLE', None, (), None),\n",
       " SchemaField('user_id', 'INTEGER', 'NULLABLE', None, (), None),\n",
       " SchemaField('class', 'INTEGER', 'NULLABLE', None, (), None),\n",
       " SchemaField('tag_based', 'BOOLEAN', 'NULLABLE', None, (), None)]"
      ]
     },
     "execution_count": 3,
     "metadata": {},
     "output_type": "execute_result"
    }
   ],
   "source": [
    "# first, let look at the badges table schema\n",
    "schema = getTableSchema(\"bigquery-public-data.stackoverflow.badges\")\n",
    "schema"
   ]
  },
  {
   "cell_type": "markdown",
   "id": "7882e792-fc93-4cfd-95f5-38e44d1a2ab8",
   "metadata": {},
   "source": [
    "class field identifies badges type: 1 - gold, 2 - silver, 3 - bronze"
   ]
  },
  {
   "cell_type": "code",
   "execution_count": 4,
   "id": "f5dc20dc-6823-4a31-b2f1-5ef92fab27af",
   "metadata": {},
   "outputs": [
    {
     "data": {
      "text/html": [
       "<div>\n",
       "<style scoped>\n",
       "    .dataframe tbody tr th:only-of-type {\n",
       "        vertical-align: middle;\n",
       "    }\n",
       "\n",
       "    .dataframe tbody tr th {\n",
       "        vertical-align: top;\n",
       "    }\n",
       "\n",
       "    .dataframe thead th {\n",
       "        text-align: right;\n",
       "    }\n",
       "</style>\n",
       "<table border=\"1\" class=\"dataframe\">\n",
       "  <thead>\n",
       "    <tr style=\"text-align: right;\">\n",
       "      <th></th>\n",
       "      <th>total_count</th>\n",
       "    </tr>\n",
       "  </thead>\n",
       "  <tbody>\n",
       "    <tr>\n",
       "      <th>0</th>\n",
       "      <td>1175600</td>\n",
       "    </tr>\n",
       "  </tbody>\n",
       "</table>\n",
       "</div>"
      ],
      "text/plain": [
       "   total_count\n",
       "0      1175600"
      ]
     },
     "execution_count": 4,
     "metadata": {},
     "output_type": "execute_result"
    }
   ],
   "source": [
    "# total count for gold badges earned\n",
    "query = \"\"\"\n",
    "        SELECT\n",
    "            COUNT(*) AS total_count\n",
    "        FROM `bigquery-public-data.stackoverflow.badges`\n",
    "        WHERE\n",
    "            class = 1;\n",
    "    \"\"\"\n",
    "\n",
    "result = getQueryAsDF(query)\n",
    "result"
   ]
  },
  {
   "cell_type": "code",
   "execution_count": 22,
   "id": "26a47f5c-c784-4208-b064-c4a5e11137fc",
   "metadata": {},
   "outputs": [
    {
     "data": {
      "text/html": [
       "<div>\n",
       "<style scoped>\n",
       "    .dataframe tbody tr th:only-of-type {\n",
       "        vertical-align: middle;\n",
       "    }\n",
       "\n",
       "    .dataframe tbody tr th {\n",
       "        vertical-align: top;\n",
       "    }\n",
       "\n",
       "    .dataframe thead th {\n",
       "        text-align: right;\n",
       "    }\n",
       "</style>\n",
       "<table border=\"1\" class=\"dataframe\">\n",
       "  <thead>\n",
       "    <tr style=\"text-align: right;\">\n",
       "      <th></th>\n",
       "      <th>gold_badge_users_perc</th>\n",
       "    </tr>\n",
       "  </thead>\n",
       "  <tbody>\n",
       "    <tr>\n",
       "      <th>0</th>\n",
       "      <td>6.4</td>\n",
       "    </tr>\n",
       "  </tbody>\n",
       "</table>\n",
       "</div>"
      ],
      "text/plain": [
       "   gold_badge_users_perc\n",
       "0                    6.4"
      ]
     },
     "execution_count": 22,
     "metadata": {},
     "output_type": "execute_result"
    }
   ],
   "source": [
    "# % of gold badge users vs non-gold badge users\n",
    "query = \"\"\"\n",
    "        SELECT \n",
    "            ROUND((SELECT COUNT(DISTINCT user_id) FROM `bigquery-public-data.stackoverflow.badges` WHERE class = 1)/COUNT(DISTINCT user_id), 3) * 100 AS gold_badge_users_perc\n",
    "        FROM `bigquery-public-data.stackoverflow.badges`\n",
    "    \"\"\"\n",
    "\n",
    "result = getQueryAsDF(query)\n",
    "result"
   ]
  },
  {
   "cell_type": "code",
   "execution_count": 7,
   "id": "97f01e55-f62d-44c3-8b23-86d75e06627e",
   "metadata": {},
   "outputs": [
    {
     "data": {
      "text/html": [
       "<div>\n",
       "<style scoped>\n",
       "    .dataframe tbody tr th:only-of-type {\n",
       "        vertical-align: middle;\n",
       "    }\n",
       "\n",
       "    .dataframe tbody tr th {\n",
       "        vertical-align: top;\n",
       "    }\n",
       "\n",
       "    .dataframe thead th {\n",
       "        text-align: right;\n",
       "    }\n",
       "</style>\n",
       "<table border=\"1\" class=\"dataframe\">\n",
       "  <thead>\n",
       "    <tr style=\"text-align: right;\">\n",
       "      <th></th>\n",
       "      <th>total_perc</th>\n",
       "    </tr>\n",
       "  </thead>\n",
       "  <tbody>\n",
       "    <tr>\n",
       "      <th>0</th>\n",
       "      <td>2.8</td>\n",
       "    </tr>\n",
       "  </tbody>\n",
       "</table>\n",
       "</div>"
      ],
      "text/plain": [
       "   total_perc\n",
       "0         2.8"
      ]
     },
     "execution_count": 7,
     "metadata": {},
     "output_type": "execute_result"
    }
   ],
   "source": [
    "# % of gold badges earned overall\n",
    "query = \"\"\"\n",
    "        SELECT\n",
    "            ROUND(COUNT(*) /(SELECT COUNT(*) FROM `bigquery-public-data.stackoverflow.badges`), 3) * 100 AS total_perc\n",
    "        FROM `bigquery-public-data.stackoverflow.badges`\n",
    "        WHERE\n",
    "            class = 1;\n",
    "    \"\"\"\n",
    "\n",
    "result = getQueryAsDF(query)\n",
    "result"
   ]
  },
  {
   "cell_type": "markdown",
   "id": "4f1bf1b7-4c33-4351-94b9-a2f0680899ce",
   "metadata": {},
   "source": [
    "That is a really low % of badges given are gold. Which can indicate gold badges are tough to earn. \n",
    "\n",
    "For non-gold badge user like myself, I would like to know what are the top ten earned gold badges that I can aim for?"
   ]
  },
  {
   "cell_type": "code",
   "execution_count": 9,
   "id": "d7da9950-90b7-417a-abb7-9d819cc06ecf",
   "metadata": {},
   "outputs": [
    {
     "data": {
      "text/html": [
       "<div>\n",
       "<style scoped>\n",
       "    .dataframe tbody tr th:only-of-type {\n",
       "        vertical-align: middle;\n",
       "    }\n",
       "\n",
       "    .dataframe tbody tr th {\n",
       "        vertical-align: top;\n",
       "    }\n",
       "\n",
       "    .dataframe thead th {\n",
       "        text-align: right;\n",
       "    }\n",
       "</style>\n",
       "<table border=\"1\" class=\"dataframe\">\n",
       "  <thead>\n",
       "    <tr style=\"text-align: right;\">\n",
       "      <th></th>\n",
       "      <th>name</th>\n",
       "      <th>badge_total_count</th>\n",
       "    </tr>\n",
       "  </thead>\n",
       "  <tbody>\n",
       "    <tr>\n",
       "      <th>0</th>\n",
       "      <td>Famous Question</td>\n",
       "      <td>849358</td>\n",
       "    </tr>\n",
       "    <tr>\n",
       "      <th>1</th>\n",
       "      <td>Great Answer</td>\n",
       "      <td>98716</td>\n",
       "    </tr>\n",
       "    <tr>\n",
       "      <th>2</th>\n",
       "      <td>Great Question</td>\n",
       "      <td>46519</td>\n",
       "    </tr>\n",
       "    <tr>\n",
       "      <th>3</th>\n",
       "      <td>Fanatic</td>\n",
       "      <td>39568</td>\n",
       "    </tr>\n",
       "    <tr>\n",
       "      <th>4</th>\n",
       "      <td>Populist</td>\n",
       "      <td>25556</td>\n",
       "    </tr>\n",
       "    <tr>\n",
       "      <th>5</th>\n",
       "      <td>Unsung Hero</td>\n",
       "      <td>25468</td>\n",
       "    </tr>\n",
       "    <tr>\n",
       "      <th>6</th>\n",
       "      <td>Electorate</td>\n",
       "      <td>25369</td>\n",
       "    </tr>\n",
       "    <tr>\n",
       "      <th>7</th>\n",
       "      <td>Steward</td>\n",
       "      <td>21414</td>\n",
       "    </tr>\n",
       "    <tr>\n",
       "      <th>8</th>\n",
       "      <td>Publicist</td>\n",
       "      <td>9682</td>\n",
       "    </tr>\n",
       "    <tr>\n",
       "      <th>9</th>\n",
       "      <td>Stellar Question</td>\n",
       "      <td>9215</td>\n",
       "    </tr>\n",
       "  </tbody>\n",
       "</table>\n",
       "</div>"
      ],
      "text/plain": [
       "               name  badge_total_count\n",
       "0   Famous Question             849358\n",
       "1      Great Answer              98716\n",
       "2    Great Question              46519\n",
       "3           Fanatic              39568\n",
       "4          Populist              25556\n",
       "5       Unsung Hero              25468\n",
       "6        Electorate              25369\n",
       "7           Steward              21414\n",
       "8         Publicist               9682\n",
       "9  Stellar Question               9215"
      ]
     },
     "execution_count": 9,
     "metadata": {},
     "output_type": "execute_result"
    }
   ],
   "source": [
    "query = \"\"\"\n",
    "        SELECT \n",
    "            name,\n",
    "            COUNT(*) as badge_total_count\n",
    "        FROM `bigquery-public-data.stackoverflow.badges`\n",
    "        WHERE \n",
    "            class = 1\n",
    "        GROUP BY 1\n",
    "        ORDER BY badge_total_count DESC\n",
    "        LIMIT 10;\n",
    "    \"\"\"\n",
    "\n",
    "result = getQueryAsDF(query)\n",
    "result"
   ]
  },
  {
   "cell_type": "markdown",
   "id": "cc370835-93a7-4fc7-9940-19c98d689412",
   "metadata": {},
   "source": [
    "There is approximately 12x jump from Great Answer badge to the Famous Question badge earned. Based on Stackoverflow docummentation, Famous Question is earned by having 10k+ views and can be earn multiple times. This resulted in a single user has multiple Famous Question badges and drive up the different in the jump. "
   ]
  },
  {
   "cell_type": "markdown",
   "id": "9d75f05d-add9-4216-9fae-91733d569df0",
   "metadata": {},
   "source": [
    "Ranking by tenure(by year joined), how many users earned gold badges based on the year? \n",
    "\n",
    "My hypothesis is the more tenure a user is, the more gold badges they will earn."
   ]
  },
  {
   "cell_type": "code",
   "execution_count": 12,
   "id": "84cf7163-c740-46ec-b497-815e6ecc789f",
   "metadata": {},
   "outputs": [
    {
     "data": {
      "text/plain": [
       "[SchemaField('id', 'INTEGER', 'NULLABLE', None, (), None),\n",
       " SchemaField('display_name', 'STRING', 'NULLABLE', None, (), None),\n",
       " SchemaField('about_me', 'STRING', 'NULLABLE', None, (), None),\n",
       " SchemaField('age', 'STRING', 'NULLABLE', None, (), None),\n",
       " SchemaField('creation_date', 'TIMESTAMP', 'NULLABLE', None, (), None),\n",
       " SchemaField('last_access_date', 'TIMESTAMP', 'NULLABLE', None, (), None),\n",
       " SchemaField('location', 'STRING', 'NULLABLE', None, (), None),\n",
       " SchemaField('reputation', 'INTEGER', 'NULLABLE', None, (), None),\n",
       " SchemaField('up_votes', 'INTEGER', 'NULLABLE', None, (), None),\n",
       " SchemaField('down_votes', 'INTEGER', 'NULLABLE', None, (), None),\n",
       " SchemaField('views', 'INTEGER', 'NULLABLE', None, (), None),\n",
       " SchemaField('profile_image_url', 'STRING', 'NULLABLE', None, (), None),\n",
       " SchemaField('website_url', 'STRING', 'NULLABLE', None, (), None)]"
      ]
     },
     "execution_count": 12,
     "metadata": {},
     "output_type": "execute_result"
    }
   ],
   "source": [
    "# we will be joining users table next. First, let look at its schema to see what are the field we will be using.\n",
    "schema = getTableSchema(\"bigquery-public-data.stackoverflow.users\")\n",
    "schema"
   ]
  },
  {
   "cell_type": "code",
   "execution_count": 13,
   "id": "20119d7b-3fc2-457b-b23e-3a509349cb76",
   "metadata": {},
   "outputs": [
    {
     "data": {
      "text/html": [
       "<div>\n",
       "<style scoped>\n",
       "    .dataframe tbody tr th:only-of-type {\n",
       "        vertical-align: middle;\n",
       "    }\n",
       "\n",
       "    .dataframe tbody tr th {\n",
       "        vertical-align: top;\n",
       "    }\n",
       "\n",
       "    .dataframe thead th {\n",
       "        text-align: right;\n",
       "    }\n",
       "</style>\n",
       "<table border=\"1\" class=\"dataframe\">\n",
       "  <thead>\n",
       "    <tr style=\"text-align: right;\">\n",
       "      <th></th>\n",
       "      <th>year_joined</th>\n",
       "      <th>gold_badge_user_count</th>\n",
       "    </tr>\n",
       "  </thead>\n",
       "  <tbody>\n",
       "    <tr>\n",
       "      <th>0</th>\n",
       "      <td>2012</td>\n",
       "      <td>76952</td>\n",
       "    </tr>\n",
       "    <tr>\n",
       "      <th>1</th>\n",
       "      <td>2013</td>\n",
       "      <td>72933</td>\n",
       "    </tr>\n",
       "    <tr>\n",
       "      <th>2</th>\n",
       "      <td>2011</td>\n",
       "      <td>70643</td>\n",
       "    </tr>\n",
       "    <tr>\n",
       "      <th>3</th>\n",
       "      <td>2010</td>\n",
       "      <td>48735</td>\n",
       "    </tr>\n",
       "    <tr>\n",
       "      <th>4</th>\n",
       "      <td>2014</td>\n",
       "      <td>48536</td>\n",
       "    </tr>\n",
       "    <tr>\n",
       "      <th>5</th>\n",
       "      <td>2015</td>\n",
       "      <td>37463</td>\n",
       "    </tr>\n",
       "    <tr>\n",
       "      <th>6</th>\n",
       "      <td>2009</td>\n",
       "      <td>32026</td>\n",
       "    </tr>\n",
       "    <tr>\n",
       "      <th>7</th>\n",
       "      <td>2016</td>\n",
       "      <td>28233</td>\n",
       "    </tr>\n",
       "    <tr>\n",
       "      <th>8</th>\n",
       "      <td>2017</td>\n",
       "      <td>18772</td>\n",
       "    </tr>\n",
       "    <tr>\n",
       "      <th>9</th>\n",
       "      <td>2008</td>\n",
       "      <td>13468</td>\n",
       "    </tr>\n",
       "  </tbody>\n",
       "</table>\n",
       "</div>"
      ],
      "text/plain": [
       "   year_joined  gold_badge_user_count\n",
       "0         2012                  76952\n",
       "1         2013                  72933\n",
       "2         2011                  70643\n",
       "3         2010                  48735\n",
       "4         2014                  48536\n",
       "5         2015                  37463\n",
       "6         2009                  32026\n",
       "7         2016                  28233\n",
       "8         2017                  18772\n",
       "9         2008                  13468"
      ]
     },
     "execution_count": 13,
     "metadata": {},
     "output_type": "execute_result"
    }
   ],
   "source": [
    "# we can join the user_id field from the badges table and id field from the users table\n",
    "query = \"\"\"\n",
    "        SELECT \n",
    "            EXTRACT (YEAR FROM creation_date) as year_joined,\n",
    "            COUNT(DISTINCT user_id) as gold_badge_user_count\n",
    "        FROM \n",
    "            `bigquery-public-data.stackoverflow.badges` AS badges\n",
    "            JOIN `bigquery-public-data.stackoverflow.users` AS users ON users.id = badges.user_id\n",
    "        WHERE \n",
    "            class = 1\n",
    "        GROUP BY 1\n",
    "        ORDER BY 2 DESC\n",
    "        LIMIT 10;\n",
    "    \"\"\"\n",
    "\n",
    "result = getQueryAsDF(query)\n",
    "result"
   ]
  },
  {
   "cell_type": "markdown",
   "id": "4f22d120-ca1d-4ea3-808e-43baeb59f520",
   "metadata": {},
   "source": [
    "As shown in the result, users, who joined in 2012 - 2013, are the largest population with gold badge/s earned. Eventhough, 2008-2009 group has the most tenure, they are on the lower end of the table. This can be a correlation to when Stackoverflow was found(2008). Users population might be much smaller in size during the first couple of years after the platform launched. \n",
    "\n",
    "We can use a visual aid from Seaborn library to see the population size over the years."
   ]
  },
  {
   "cell_type": "code",
   "execution_count": 19,
   "id": "77bc54f9-2bab-4e34-a7fd-3ac73e002f65",
   "metadata": {},
   "outputs": [
    {
     "data": {
      "text/plain": [
       "Text(0.5, 1.0, 'User Count by Year Joined')"
      ]
     },
     "execution_count": 19,
     "metadata": {},
     "output_type": "execute_result"
    },
    {
     "data": {
      "image/png": "[encoded data removed]",
      "text/plain": [
       "<Figure size 432x288 with 1 Axes>"
      ]
     },
     "metadata": {
      "needs_background": "light"
     },
     "output_type": "display_data"
    }
   ],
   "source": [
    "import seaborn as sns\n",
    "import matplotlib.pyplot as plt\n",
    "\n",
    "plot = sns.barplot(data = result, x = 'year_joined', y = 'gold_badge_user_count', color = 'cyan')\n",
    "plot.set_title('User Count by Year Joined')"
   ]
  },
  {
   "cell_type": "markdown",
   "id": "b22080ca-b236-45eb-ba79-afd1431626f1",
   "metadata": {},
   "source": [
    "Unintendedly, we have a normal distribution of users joined by year.  \n",
    "% of active gold badge users in 2020?"
   ]
  },
  {
   "cell_type": "markdown",
   "id": "6a06651a-6c8e-4c2e-b682-d95084b96dca",
   "metadata": {},
   "source": []
  },
  {
   "cell_type": "code",
   "execution_count": null,
   "id": "e8865872-1266-4cef-9e69-c861dea388ca",
   "metadata": {},
   "outputs": [],
   "source": []
  }
 ],
 "metadata": {
  "kernelspec": {
   "display_name": "Python 3",
   "language": "python",
   "name": "python3"
  },
  "language_info": {
   "codemirror_mode": {
    "name": "ipython",
    "version": 3
   },
   "file_extension": ".py",
   "mimetype": "text/x-python",
   "name": "python",
   "nbconvert_exporter": "python",
   "pygments_lexer": "ipython3",
   "version": "3.8.8"
  }
 },
 "nbformat": 4,
 "nbformat_minor": 5
}
