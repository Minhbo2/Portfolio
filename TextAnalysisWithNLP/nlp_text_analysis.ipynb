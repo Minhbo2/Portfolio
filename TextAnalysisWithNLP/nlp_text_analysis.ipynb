{
 "cells": [
  {
   "cell_type": "code",
   "execution_count": 16,
   "metadata": {},
   "outputs": [],
   "source": [
    "import pandas as pd\n",
    "import numpy as np\n",
    "from pandas import DataFrame\n",
    "\n",
    "import nltk\n",
    "from nltk import pos_tag\n",
    "from nltk.stem import PorterStemmer\n",
    "from nltk.tokenize import word_tokenize"
   ]
  },
  {
   "cell_type": "code",
   "execution_count": 6,
   "metadata": {},
   "outputs": [],
   "source": [
    "job_desc_df = pd.read_csv('filtered_job_desc.csv')"
   ]
  },
  {
   "cell_type": "markdown",
   "metadata": {},
   "source": [
    "### Performing text analysis,\n",
    "- tokenize + filter + stemming + categorize tool/skill"
   ]
  },
  {
   "cell_type": "code",
   "execution_count": 7,
   "metadata": {},
   "outputs": [],
   "source": [
    "# trimming down the job description\n",
    "for i in range(len(job_desc_df)):\n",
    "    desc_list = job_desc_df['description'].iloc[i].split('\\n')\n",
    "    # majority of job requirements and responsibility lines have a length of 45 and shorter\n",
    "    desc_arr = [i for i in desc_list if len(i) > 45]\n",
    "    joined_desc = ' '.join(desc_arr)\n",
    "    job_desc_df['description'].at[i] = joined_desc"
   ]
  },
  {
   "cell_type": "code",
   "execution_count": 8,
   "metadata": {},
   "outputs": [],
   "source": [
    "# helper function\n",
    "ps = PorterStemmer()\n",
    "wanted_tag = ['NN', 'JJ', 'VBP']\n",
    "\n",
    "def preppingJobDesc(desc):\n",
    "    tokens = word_tokenize(desc.lower())\n",
    "    token_tag = pos_tag(tokens)\n",
    "    filtered_tokens = [tok for tok, tag in token_tag if tag in wanted_tag]\n",
    "    stemmed_tokens = [ps.stem(tok).lower() for tok in filtered_tokens]\n",
    "    return set(stemmed_tokens)"
   ]
  },
  {
   "cell_type": "code",
   "execution_count": 9,
   "metadata": {},
   "outputs": [],
   "source": [
    "tool_skill = ['server',\n",
    "              'cloud',\n",
    "              'sql',\n",
    "              'mysql',\n",
    "              'python',\n",
    "              'r',\n",
    "              'tableau',\n",
    "              'power bi',\n",
    "              'looker',\n",
    "              'powerpoint',\n",
    "              'google sheet',\n",
    "              'gsuite',\n",
    "              'jupyter',\n",
    "              'javascript',\n",
    "              'java',\n",
    "              'excel',\n",
    "              'statistic',\n",
    "              'model',\n",
    "              'word',\n",
    "              'bi']\n",
    "# common list of tools and skills appeared in many postings from a quick glance.\n",
    "# Resource: https://towardsdatascience.com/how-to-use-nlp-in-python-a-practical-step-by-step-example-bd82ca2d2e1e\n",
    "\n",
    "job_desc_df['desc_word_set'] = job_desc_df['description'].map(preppingJobDesc)\n",
    "tool_keyword_set = set([ps.stem(tok) for tok in tool_skill])\n",
    "tool_keyword_dict = {ps.stem(tok):tok for tok in tool_skill} "
   ]
  },
  {
   "cell_type": "code",
   "execution_count": 10,
   "metadata": {},
   "outputs": [],
   "source": [
    "tool_list = []\n",
    "\n",
    "num_of_jobs = len(job_desc_df)\n",
    "for i in range(num_of_jobs):\n",
    "    desc_word_set = job_desc_df['desc_word_set'].iloc[i]\n",
    "    tool_word_intersect = tool_keyword_set.intersection(desc_word_set)\n",
    "    \n",
    "    if len(tool_word_intersect) == 0:\n",
    "        tool_list.append('Not Specified')\n",
    "        \n",
    "    tool_list += list(tool_word_intersect)"
   ]
  },
  {
   "cell_type": "code",
   "execution_count": 12,
   "metadata": {},
   "outputs": [],
   "source": [
    "df_tool = pd.DataFrame(data={'count': tool_list})\n",
    "df_tool = df_tool.replace(tool_keyword_dict)\n",
    "\n",
    "temp = df_tool['count'] == 'bi'\n",
    "df_tool.loc[temp,'count'] = 'power bi'\n",
    "\n",
    "temp = df_tool['count'] == 'mysql'\n",
    "df_tool.loc[temp,'count'] = 'sql'\n",
    "\n",
    "df_tool = df_tool.value_counts().reset_index().rename(columns = {'count':'tool', 0:'count'})"
   ]
  },
  {
   "cell_type": "code",
   "execution_count": 13,
   "metadata": {},
   "outputs": [],
   "source": [
    "df_tool.to_csv('tool_skill_count.csv', index = False)"
   ]
  },
  {
   "cell_type": "code",
   "execution_count": 17,
   "metadata": {},
   "outputs": [
    {
     "name": "stderr",
     "output_type": "stream",
     "text": [
      "<ipython-input-17-8ab29bf1f47e>:8: UserWarning: FixedFormatter should only be used together with FixedLocator\n",
      "  pl.set_xticklabels(['{:,.0%}'.format(x) for x in bins])\n"
     ]
    },
    {
     "data": {
      "text/plain": [
       "[Text(0.0, 0, '0%'),\n",
       " Text(25.0, 0, '8%'),\n",
       " Text(50.0, 0, '16%'),\n",
       " Text(75.0, 0, '24%'),\n",
       " Text(100.0, 0, '32%'),\n",
       " Text(125.0, 0, '40%'),\n",
       " Text(150.0, 0, '48%'),\n",
       " Text(175.0, 0, '56%'),\n",
       " Text(200.0, 0, '')]"
      ]
     },
     "execution_count": 17,
     "metadata": {},
     "output_type": "execute_result"
    },
    {
     "data": {
      "image/png": "[encoded data removed]",
      "text/plain": [
       "<Figure size 432x288 with 1 Axes>"
      ]
     },
     "metadata": {
      "needs_background": "light"
     },
     "output_type": "display_data"
    }
   ],
   "source": [
    "import seaborn as sns\n",
    "import matplotlib.pyplot as plt\n",
    "\n",
    "highest_perc = round(df_tool['count'].iloc[0] / len(job_desc_df), 2)\n",
    "bins = np.arange(0,highest_perc, .08)\n",
    "pl = sns.barplot(data = df_tool, x = df_tool['count'], y = df_tool['tool'], color = 'cyan')\n",
    "pl.set(xlabel = '% of Employers', ylabel = 'Tool', title = 'Top Tools Required By Employers in SF Bay Area')\n",
    "pl.set_xticklabels(['{:,.0%}'.format(x) for x in bins])"
   ]
  },
  {
   "cell_type": "code",
   "execution_count": null,
   "metadata": {},
   "outputs": [],
   "source": []
  },
  {
   "cell_type": "code",
   "execution_count": null,
   "metadata": {},
   "outputs": [],
   "source": []
  }
 ],
 "metadata": {
  "kernelspec": {
   "display_name": "Python 3",
   "language": "python",
   "name": "python3"
  },
  "language_info": {
   "codemirror_mode": {
    "name": "ipython",
    "version": 3
   },
   "file_extension": ".py",
   "mimetype": "text/x-python",
   "name": "python",
   "nbconvert_exporter": "python",
   "pygments_lexer": "ipython3",
   "version": "3.8.8"
  }
 },
 "nbformat": 4,
 "nbformat_minor": 4
}
