{
 "cells": [
  {
   "cell_type": "code",
   "execution_count": 99,
   "metadata": {},
   "outputs": [],
   "source": [
    "import pandas as pd\n",
    "from pandas import DataFrame\n",
    "\n",
    "import nltk\n",
    "from nltk.tokenize import word_tokenize"
   ]
  },
  {
   "cell_type": "code",
   "execution_count": 100,
   "metadata": {},
   "outputs": [],
   "source": [
    "job_df = pd.read_csv('filtered_job.csv')\n",
    "job_desc_df = pd.read_csv('filtered_job_desc.csv')"
   ]
  },
  {
   "cell_type": "code",
   "execution_count": null,
   "metadata": {},
   "outputs": [],
   "source": [
    "tools_list = ['sql', 'python', 'r', 'tableau', 'power bi', 'excel', 'looker', 'powerpoint', 'google sheet', 'gsuite', 'jupyter', 'javascript', 'java']\n",
    "# common list of tools and skills appeared in many postings from a quick glance.\n",
    "# Resource: https://towardsdatascience.com/how-to-use-nlp-in-python-a-practical-step-by-step-example-bd82ca2d2e1e"
   ]
  },
  {
   "cell_type": "markdown",
   "metadata": {},
   "source": [
    "### Additional filtering for description, making it easier to process. \n",
    "- at a glance, typical string length for items of requirements and job responsibilities section are long. \n",
    "- cheap/lazy yet effective way to trim down excess is eliminating short strings.  "
   ]
  },
  {
   "cell_type": "code",
   "execution_count": 101,
   "metadata": {},
   "outputs": [],
   "source": [
    "# trimming down the job description\n",
    "for i in range(len(job_desc_df)):\n",
    "    desc_list = job_desc_df['description'].iloc[i].split('\\n')\n",
    "    # majority of job requirements and responsibility lines have a length of 45 and shorter\n",
    "    desc_arr = [i for i in desc_list if len(i) > 45]\n",
    "    joined_desc = ' '.join(desc_arr)\n",
    "    job_desc_df['description'].at[i] = joined_desc"
   ]
  },
  {
   "cell_type": "code",
   "execution_count": 103,
   "metadata": {},
   "outputs": [],
   "source": [
    "word_tokenize(job_desc_df['description'].iloc[0])"
   ]
  },
  {
   "cell_type": "code",
   "execution_count": null,
   "metadata": {},
   "outputs": [],
   "source": []
  }
 ],
 "metadata": {
  "kernelspec": {
   "display_name": "Python3.6",
   "language": "python",
   "name": "python3"
  },
  "language_info": {
   "codemirror_mode": {
    "name": "ipython",
    "version": 3
   },
   "file_extension": ".py",
   "mimetype": "text/x-python",
   "name": "python",
   "nbconvert_exporter": "python",
   "pygments_lexer": "ipython3",
   "version": "3.6.9"
  }
 },
 "nbformat": 4,
 "nbformat_minor": 4
}
