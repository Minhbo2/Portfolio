{
 "cells": [
  {
   "cell_type": "code",
<<<<<<< HEAD
   "execution_count": 1,
=======
   "execution_count": 11,
>>>>>>> 0b5349f7cc05cd39c30561925921ef036ffcc3d9
   "metadata": {},
   "outputs": [],
   "source": [
    "import pandas as pd\n",
    "import numpy as np\n",
    "from pandas import DataFrame\n",
    "\n",
    "import nltk\n",
    "from nltk import pos_tag\n",
    "from nltk.stem import PorterStemmer\n",
    "from nltk.tokenize import word_tokenize"
   ]
  },
  {
   "cell_type": "code",
<<<<<<< HEAD
   "execution_count": 2,
=======
   "execution_count": 68,
>>>>>>> 0b5349f7cc05cd39c30561925921ef036ffcc3d9
   "metadata": {},
   "outputs": [],
   "source": [
    "job_desc_df = pd.read_csv('filtered_job_desc.csv')"
   ]
  },
  {
   "cell_type": "markdown",
   "metadata": {},
   "source": [
    "### Remove excess lines from job desc \n",
    "- at a glance, typical string length for items of requirements and job responsibilities section are long. \n",
    "- cheap/lazy yet effective way to trim down excess/eliminating short strings.  "
   ]
  },
  {
   "cell_type": "code",
<<<<<<< HEAD
   "execution_count": 3,
=======
   "execution_count": 69,
>>>>>>> 0b5349f7cc05cd39c30561925921ef036ffcc3d9
   "metadata": {},
   "outputs": [],
   "source": [
    "# trimming down the job description\n",
    "for i in range(len(job_desc_df)):\n",
    "    desc_list = job_desc_df['description'].iloc[i].split('\\n')\n",
    "    # majority of job requirements and responsibility lines have a length of 45 and shorter\n",
    "    desc_arr = [i for i in desc_list if len(i) > 45]\n",
    "    joined_desc = ' '.join(desc_arr)\n",
    "    job_desc_df['description'].at[i] = joined_desc"
   ]
  },
  {
   "cell_type": "markdown",
   "metadata": {},
   "source": [
    "### Performing text analysis\n",
    "- tokenize + filter + stemming + categorize tool/skill"
   ]
  },
  {
   "cell_type": "code",
   "execution_count": 4,
   "metadata": {},
   "outputs": [],
   "source": [
    "ps = PorterStemmer()\n",
    "wanted_tag = ['NN', 'JJ', 'VBP']\n",
    "\n",
    "# helper function\n",
    "def preppingJobDesc(desc):\n",
    "    tokens = word_tokenize(desc.lower())\n",
    "    token_tag = pos_tag(tokens)\n",
    "    filtered_tokens = [tok for tok, tag in token_tag if tag in wanted_tag]\n",
    "    stemmed_tokens = [ps.stem(tok).lower() for tok in filtered_tokens]\n",
    "    return set(stemmed_tokens)"
   ]
  },
  {
   "cell_type": "code",
   "execution_count": 5,
   "metadata": {},
   "outputs": [],
   "source": [
    "tool_skill = ['a/b',\n",
    "              'server',\n",
    "              'cloud',\n",
    "              'sql',\n",
    "              'mysql', \n",
    "              'python',\n",
    "              'r',\n",
    "              'tableau',\n",
    "              'power bi',\n",
    "              'looker',\n",
    "              'powerpoint',\n",
    "              'sheet',\n",
    "              'gsuite',\n",
    "              'jupyter',\n",
    "              'javascript',\n",
    "              'java',\n",
    "              'excel',\n",
    "              'statistic',\n",
    "              'model',\n",
    "              'word',\n",
    "              'bi']\n",
    "# common list of tools and skills appeared in many postings from a quick glance.\n",
    "\n",
    "job_desc_df['desc_word_set'] = job_desc_df['description'].map(preppingJobDesc)\n",
    "tool_keyword_set = set([ps.stem(tok) for tok in tool_skill])\n",
    "tool_keyword_dict = {ps.stem(tok):tok for tok in tool_skill} "
   ]
  },
  {
   "cell_type": "code",
<<<<<<< HEAD
   "execution_count": 6,
   "metadata": {},
   "outputs": [],
   "source": [
    "# filtering result and categorize \n",
    "tool_list = []\n",
    "\n",
    "num_of_jobs = len(job_desc_df)\n",
    "for i in range(num_of_jobs):\n",
    "    desc_word_set = job_desc_df['desc_word_set'].iloc[i]\n",
    "    tool_word_intersect = tool_keyword_set.intersection(desc_word_set)\n",
    "    if len(tool_word_intersect) == 0:\n",
    "        tool_list.append('No tool specified')\n",
    "        \n",
    "    tool_list += list(tool_word_intersect)"
=======
   "execution_count": 70,
   "metadata": {},
   "outputs": [],
   "source": [
    "ps = PorterStemmer()\n",
    "wanted_tag = ['NN', 'JJ', 'VBP']\n",
    "\n",
    "def preppingJobDesc(desc):\n",
    "    tokens = word_tokenize(desc)\n",
    "    token_tag = pos_tag(tokens)\n",
    "    filtered_tokens = [tok for tok, tag in token_tag if tag in wanted_tag]\n",
    "    stemmed_tokens = [ps.stem(tok).lower() for tok in filtered_tokens]\n",
    "    return set(stemmed_tokens)"
   ]
  },
  {
   "cell_type": "code",
   "execution_count": 71,
   "metadata": {},
   "outputs": [
    {
     "name": "stdout",
     "output_type": "stream",
     "text": [
      "{'cloud': 'cloud', 'sql': 'sql', 'mysql': 'mysql', 'python': 'python', 'r': 'r', 'tableau': 'tableau', 'power bi': 'power bi', 'looker': 'looker', 'powerpoint': 'powerpoint', 'google sheet': 'google sheet', 'gsuit': 'gsuite', 'jupyt': 'jupyter', 'javascript': 'javascript', 'java': 'java', 'excel': 'excel', 'statist': 'statistic', 'model': 'model', 'word': 'word', 'bi': 'bi'}\n"
     ]
    }
   ],
   "source": [
    "tool_skill = ['cloud','sql', 'mysql', 'python', 'r', 'tableau', 'power bi', 'looker', 'powerpoint', 'google sheet', 'gsuite', 'jupyter', 'javascript', 'java', 'excel', 'statistic', 'model', 'word', 'bi']\n",
    "# common list of tools and skills appeared in many postings from a quick glance.\n",
    "# Resource: https://towardsdatascience.com/how-to-use-nlp-in-python-a-practical-step-by-step-example-bd82ca2d2e1e\n",
    "\n",
    "job_desc_df['desc_word_set'] = job_desc_df['description'].map(preppingJobDesc)\n",
    "tool_keyword_set = set([ps.stem(tok) for tok in tool_skill])\n",
    "tool_keyword_dict = {ps.stem(tok):tok for tok in tool_skill} "
   ]
  },
  {
   "cell_type": "code",
   "execution_count": 72,
   "metadata": {},
   "outputs": [],
   "source": [
    "tool_list = []\n",
    "\n",
    "num_of_jobs = len(job_desc_df)\n",
    "for i in range(num_of_jobs):\n",
    "    desc_word_set = job_desc_df['desc_word_set'].iloc[i]\n",
    "    tool_word_intersect = tool_keyword_set.intersection(desc_word_set)\n",
    "    \n",
    "    if len(tool_word_intersect) == 0:\n",
    "        tool_list.append('N/A')\n",
    "        \n",
    "    tool_list += list(tool_word_intersect)"
   ]
  },
  {
   "cell_type": "code",
   "execution_count": 73,
   "metadata": {},
   "outputs": [],
   "source": [
    "df_tool = pd.DataFrame(data={'count': tool_list})\n",
    "df_tool = df_tool.replace(tool_keyword_dict)"
>>>>>>> 0b5349f7cc05cd39c30561925921ef036ffcc3d9
   ]
  },
  {
   "cell_type": "code",
<<<<<<< HEAD
   "execution_count": 7,
   "metadata": {},
   "outputs": [],
   "source": [
    "df_tool = pd.DataFrame(data={'count': tool_list})\n",
    "df_tool = df_tool.replace(tool_keyword_dict)\n",
    "\n",
    "# consolidating keywords meaning the samething\n",
    "temp = df_tool['count'] == 'bi'\n",
    "df_tool.loc[temp,'count'] = 'power bi'\n",
    "\n",
    "temp = df_tool['count'] == 'mysql'\n",
    "df_tool.loc[temp,'count'] = 'sql'\n",
    "\n",
    "df_tool = df_tool.value_counts().reset_index().rename(columns = {'count':'tool', 0:'count'})"
=======
   "execution_count": 74,
   "metadata": {},
   "outputs": [],
   "source": [
    "df_tool = df_tool.value_counts().reset_index().rename(columns = {'count':'tool', 0:'count'}).iloc[:6]"
>>>>>>> 0b5349f7cc05cd39c30561925921ef036ffcc3d9
   ]
  },
  {
   "cell_type": "code",
<<<<<<< HEAD
   "execution_count": 8,
   "metadata": {},
   "outputs": [],
   "source": [
    "# write result into csv files\n",
    "df_tool.to_csv('tool_skill_count.csv', index = False)"
   ]
  },
  {
   "cell_type": "markdown",
   "metadata": {},
   "source": [
    "### quick visual plot using seaborn"
   ]
  },
  {
   "cell_type": "code",
   "execution_count": 25,
   "metadata": {},
   "outputs": [
    {
     "name": "stderr",
     "output_type": "stream",
     "text": [
      "<ipython-input-25-3ef2f6944888>:9: UserWarning: FixedFormatter should only be used together with FixedLocator\n",
      "  pl.set_xticklabels(['{:,.0%}'.format(x) for x in bins])\n"
     ]
    },
    {
     "data": {
      "text/plain": [
       "[Text(0.0, 0, '0%'),\n",
       " Text(25.0, 0, '8%'),\n",
       " Text(50.0, 0, '16%'),\n",
       " Text(75.0, 0, '24%'),\n",
       " Text(100.0, 0, '32%'),\n",
       " Text(125.0, 0, '40%'),\n",
       " Text(150.0, 0, '48%'),\n",
       " Text(175.0, 0, '56%'),\n",
       " Text(200.0, 0, '')]"
      ]
     },
     "execution_count": 25,
     "metadata": {},
     "output_type": "execute_result"
    },
    {
     "data": {
      "image/png": "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\n",
      "text/plain": [
       "<Figure size 432x288 with 1 Axes>"
      ]
     },
     "metadata": {
      "needs_background": "light"
     },
     "output_type": "display_data"
    }
   ],
   "source": [
    "import seaborn as sns\n",
    "import matplotlib.pyplot as plt\n",
    "\n",
    "highest_perc = round(df_tool['count'].iloc[0] / len(job_desc_df), 2)\n",
    "bins = np.arange(0,highest_perc, .08)\n",
    "\n",
    "pl = sns.barplot(data = df_tool, x = df_tool['count'], y = df_tool['tool'], color = 'cyan')\n",
    "pl.set(xlabel = '% of Employers', ylabel = 'Tool', title = 'Top Tools Required By Employers in SF Bay Area')\n",
    "pl.set_xticklabels(['{:,.0%}'.format(x) for x in bins])"
=======
   "execution_count": 75,
   "metadata": {},
   "outputs": [
    {
     "data": {
      "text/html": [
       "<div>\n",
       "<style scoped>\n",
       "    .dataframe tbody tr th:only-of-type {\n",
       "        vertical-align: middle;\n",
       "    }\n",
       "\n",
       "    .dataframe tbody tr th {\n",
       "        vertical-align: top;\n",
       "    }\n",
       "\n",
       "    .dataframe thead th {\n",
       "        text-align: right;\n",
       "    }\n",
       "</style>\n",
       "<table border=\"1\" class=\"dataframe\">\n",
       "  <thead>\n",
       "    <tr style=\"text-align: right;\">\n",
       "      <th></th>\n",
       "      <th>tool</th>\n",
       "      <th>count</th>\n",
       "    </tr>\n",
       "  </thead>\n",
       "  <tbody>\n",
       "    <tr>\n",
       "      <th>0</th>\n",
       "      <td>N/A</td>\n",
       "      <td>131</td>\n",
       "    </tr>\n",
       "    <tr>\n",
       "      <th>1</th>\n",
       "      <td>excel</td>\n",
       "      <td>80</td>\n",
       "    </tr>\n",
       "    <tr>\n",
       "      <th>2</th>\n",
       "      <td>statistic</td>\n",
       "      <td>74</td>\n",
       "    </tr>\n",
       "    <tr>\n",
       "      <th>3</th>\n",
       "      <td>model</td>\n",
       "      <td>71</td>\n",
       "    </tr>\n",
       "    <tr>\n",
       "      <th>4</th>\n",
       "      <td>cloud</td>\n",
       "      <td>20</td>\n",
       "    </tr>\n",
       "    <tr>\n",
       "      <th>5</th>\n",
       "      <td>python</td>\n",
       "      <td>19</td>\n",
       "    </tr>\n",
       "  </tbody>\n",
       "</table>\n",
       "</div>"
      ],
      "text/plain": [
       "        tool  count\n",
       "0        N/A    131\n",
       "1      excel     80\n",
       "2  statistic     74\n",
       "3      model     71\n",
       "4      cloud     20\n",
       "5     python     19"
      ]
     },
     "execution_count": 75,
     "metadata": {},
     "output_type": "execute_result"
    }
   ],
   "source": [
    "df_tool"
>>>>>>> 0b5349f7cc05cd39c30561925921ef036ffcc3d9
   ]
  }
 ],
 "metadata": {
  "kernelspec": {
   "display_name": "Python 3",
   "language": "python",
   "name": "python3"
  },
  "language_info": {
   "codemirror_mode": {
    "name": "ipython",
    "version": 3
   },
   "file_extension": ".py",
   "mimetype": "text/x-python",
   "name": "python",
   "nbconvert_exporter": "python",
   "pygments_lexer": "ipython3",
   "version": "3.8.8"
  }
 },
 "nbformat": 4,
 "nbformat_minor": 4
}
