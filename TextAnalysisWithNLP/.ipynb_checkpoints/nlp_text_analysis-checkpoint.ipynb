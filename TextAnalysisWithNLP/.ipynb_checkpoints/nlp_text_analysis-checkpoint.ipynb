{
 "cells": [
  {
   "cell_type": "code",
   "execution_count": 11,
   "metadata": {},
   "outputs": [],
   "source": [
    "import pandas as pd\n",
    "from pandas import DataFrame\n",
    "\n",
    "import nltk\n",
    "from nltk import pos_tag\n",
    "from nltk.stem import PorterStemmer\n",
    "from nltk.tokenize import word_tokenize"
   ]
  },
  {
   "cell_type": "code",
   "execution_count": 68,
   "metadata": {},
   "outputs": [],
   "source": [
    "job_desc_df = pd.read_csv('filtered_job_desc.csv')"
   ]
  },
  {
   "cell_type": "markdown",
   "metadata": {},
   "source": [
    "### Additional filtering for description, making it easier to process. \n",
    "- at a glance, typical string length for items of requirements and job responsibilities section are long. \n",
    "- cheap/lazy yet effective way to trim down excess/eliminating short strings.  "
   ]
  },
  {
   "cell_type": "code",
   "execution_count": 69,
   "metadata": {},
   "outputs": [],
   "source": [
    "# trimming down the job description\n",
    "for i in range(len(job_desc_df)):\n",
    "    desc_list = job_desc_df['description'].iloc[i].split('\\n')\n",
    "    # majority of job requirements and responsibility lines have a length of 45 and shorter\n",
    "    desc_arr = [i for i in desc_list if len(i) > 45]\n",
    "    joined_desc = ' '.join(desc_arr)\n",
    "    job_desc_df['description'].at[i] = joined_desc"
   ]
  },
  {
   "cell_type": "code",
   "execution_count": 70,
   "metadata": {},
   "outputs": [],
   "source": [
    "ps = PorterStemmer()\n",
    "wanted_tag = ['NN', 'JJ', 'VBP']\n",
    "\n",
    "def preppingJobDesc(desc):\n",
    "    tokens = word_tokenize(desc)\n",
    "    token_tag = pos_tag(tokens)\n",
    "    filtered_tokens = [tok for tok, tag in token_tag if tag in wanted_tag]\n",
    "    stemmed_tokens = [ps.stem(tok).lower() for tok in filtered_tokens]\n",
    "    return set(stemmed_tokens)"
   ]
  },
  {
   "cell_type": "code",
   "execution_count": 71,
   "metadata": {},
   "outputs": [
    {
     "name": "stdout",
     "output_type": "stream",
     "text": [
      "{'cloud': 'cloud', 'sql': 'sql', 'mysql': 'mysql', 'python': 'python', 'r': 'r', 'tableau': 'tableau', 'power bi': 'power bi', 'looker': 'looker', 'powerpoint': 'powerpoint', 'google sheet': 'google sheet', 'gsuit': 'gsuite', 'jupyt': 'jupyter', 'javascript': 'javascript', 'java': 'java', 'excel': 'excel', 'statist': 'statistic', 'model': 'model', 'word': 'word', 'bi': 'bi'}\n"
     ]
    }
   ],
   "source": [
    "tool_skill = ['cloud','sql', 'mysql', 'python', 'r', 'tableau', 'power bi', 'looker', 'powerpoint', 'google sheet', 'gsuite', 'jupyter', 'javascript', 'java', 'excel', 'statistic', 'model', 'word', 'bi']\n",
    "# common list of tools and skills appeared in many postings from a quick glance.\n",
    "# Resource: https://towardsdatascience.com/how-to-use-nlp-in-python-a-practical-step-by-step-example-bd82ca2d2e1e\n",
    "\n",
    "job_desc_df['desc_word_set'] = job_desc_df['description'].map(preppingJobDesc)\n",
    "tool_keyword_set = set([ps.stem(tok) for tok in tool_skill])\n",
    "tool_keyword_dict = {ps.stem(tok):tok for tok in tool_skill} "
   ]
  },
  {
   "cell_type": "code",
   "execution_count": 72,
   "metadata": {},
   "outputs": [],
   "source": [
    "tool_list = []\n",
    "\n",
    "num_of_jobs = len(job_desc_df)\n",
    "for i in range(num_of_jobs):\n",
    "    desc_word_set = job_desc_df['desc_word_set'].iloc[i]\n",
    "    tool_word_intersect = tool_keyword_set.intersection(desc_word_set)\n",
    "    \n",
    "    if len(tool_word_intersect) == 0:\n",
    "        tool_list.append('N/A')\n",
    "        \n",
    "    tool_list += list(tool_word_intersect)"
   ]
  },
  {
   "cell_type": "code",
   "execution_count": 73,
   "metadata": {},
   "outputs": [],
   "source": [
    "df_tool = pd.DataFrame(data={'count': tool_list})\n",
    "df_tool = df_tool.replace(tool_keyword_dict)"
   ]
  },
  {
   "cell_type": "code",
   "execution_count": 74,
   "metadata": {},
   "outputs": [],
   "source": [
    "df_tool = df_tool.value_counts().reset_index().rename(columns = {'count':'tool', 0:'count'}).iloc[:6]"
   ]
  },
  {
   "cell_type": "code",
   "execution_count": 75,
   "metadata": {},
   "outputs": [
    {
     "data": {
      "text/html": [
       "<div>\n",
       "<style scoped>\n",
       "    .dataframe tbody tr th:only-of-type {\n",
       "        vertical-align: middle;\n",
       "    }\n",
       "\n",
       "    .dataframe tbody tr th {\n",
       "        vertical-align: top;\n",
       "    }\n",
       "\n",
       "    .dataframe thead th {\n",
       "        text-align: right;\n",
       "    }\n",
       "</style>\n",
       "<table border=\"1\" class=\"dataframe\">\n",
       "  <thead>\n",
       "    <tr style=\"text-align: right;\">\n",
       "      <th></th>\n",
       "      <th>tool</th>\n",
       "      <th>count</th>\n",
       "    </tr>\n",
       "  </thead>\n",
       "  <tbody>\n",
       "    <tr>\n",
       "      <th>0</th>\n",
       "      <td>N/A</td>\n",
       "      <td>131</td>\n",
       "    </tr>\n",
       "    <tr>\n",
       "      <th>1</th>\n",
       "      <td>excel</td>\n",
       "      <td>80</td>\n",
       "    </tr>\n",
       "    <tr>\n",
       "      <th>2</th>\n",
       "      <td>statistic</td>\n",
       "      <td>74</td>\n",
       "    </tr>\n",
       "    <tr>\n",
       "      <th>3</th>\n",
       "      <td>model</td>\n",
       "      <td>71</td>\n",
       "    </tr>\n",
       "    <tr>\n",
       "      <th>4</th>\n",
       "      <td>cloud</td>\n",
       "      <td>20</td>\n",
       "    </tr>\n",
       "    <tr>\n",
       "      <th>5</th>\n",
       "      <td>python</td>\n",
       "      <td>19</td>\n",
       "    </tr>\n",
       "  </tbody>\n",
       "</table>\n",
       "</div>"
      ],
      "text/plain": [
       "        tool  count\n",
       "0        N/A    131\n",
       "1      excel     80\n",
       "2  statistic     74\n",
       "3      model     71\n",
       "4      cloud     20\n",
       "5     python     19"
      ]
     },
     "execution_count": 75,
     "metadata": {},
     "output_type": "execute_result"
    }
   ],
   "source": [
    "df_tool"
   ]
  }
 ],
 "metadata": {
  "kernelspec": {
   "display_name": "Python3.6",
   "language": "python",
   "name": "python3"
  },
  "language_info": {
   "codemirror_mode": {
    "name": "ipython",
    "version": 3
   },
   "file_extension": ".py",
   "mimetype": "text/x-python",
   "name": "python",
   "nbconvert_exporter": "python",
   "pygments_lexer": "ipython3",
   "version": "3.6.9"
  }
 },
 "nbformat": 4,
 "nbformat_minor": 4
}
